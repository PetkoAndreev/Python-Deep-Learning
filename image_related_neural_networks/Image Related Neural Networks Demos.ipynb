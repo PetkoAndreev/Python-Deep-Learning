{
 "cells": [
  {
   "cell_type": "code",
   "execution_count": 1,
   "metadata": {},
   "outputs": [],
   "source": [
    "%matplotlib inline"
   ]
  },
  {
   "cell_type": "code",
   "execution_count": 2,
   "metadata": {},
   "outputs": [],
   "source": [
    "import numpy as np\n",
    "import pandas as pd\n",
    "import matplotlib.pyplot as plt\n",
    "\n",
    "import os\n",
    "\n",
    "import tensorflow as tf\n",
    "\n",
    "from tensorflow.keras.models import Sequential, Model\n",
    "\n",
    "from tensorflow.keras.layers import Input, Dense, Conv2D, MaxPool2D, Flatten, BatchNormalization, Dropout\n",
    "\n",
    "from tensorflow.keras.callbacks import ModelCheckpoint\n",
    "\n",
    "from tensorflow.keras.datasets import mnist"
   ]
  },
  {
   "cell_type": "markdown",
   "metadata": {},
   "source": [
    "<h1>Image Related Neural Networks</h1>"
   ]
  },
  {
   "cell_type": "code",
   "execution_count": 3,
   "metadata": {},
   "outputs": [
    {
     "data": {
      "text/plain": [
       "[PhysicalDevice(name='/physical_device:CPU:0', device_type='CPU'),\n",
       " PhysicalDevice(name='/physical_device:GPU:0', device_type='GPU')]"
      ]
     },
     "execution_count": 3,
     "metadata": {},
     "output_type": "execute_result"
    }
   ],
   "source": [
    "tf.config.list_physical_devices()"
   ]
  },
  {
   "cell_type": "code",
   "execution_count": 4,
   "metadata": {},
   "outputs": [],
   "source": [
    "tf.keras.backend.clear_session()"
   ]
  },
  {
   "cell_type": "code",
   "execution_count": 5,
   "metadata": {},
   "outputs": [],
   "source": [
    "input_layer = Input(shape = (40, ))\n",
    "dense1 = Dense(10)(input_layer)\n",
    "dense2 = Dense(10)(dense1)\n",
    "dense3 = Dense(10)(dense2)\n",
    "\n",
    "last_layer_class = Dense(4, activation = \"softmax\")(dense3)\n",
    "last_layer_regr = Dense(1, activation = None)(dense3)"
   ]
  },
  {
   "cell_type": "code",
   "execution_count": 6,
   "metadata": {},
   "outputs": [
    {
     "data": {
      "text/plain": [
       "<KerasTensor: shape=(None, 40) dtype=float32 (created by layer 'input_1')>"
      ]
     },
     "execution_count": 6,
     "metadata": {},
     "output_type": "execute_result"
    }
   ],
   "source": [
    "input_layer"
   ]
  },
  {
   "cell_type": "code",
   "execution_count": 7,
   "metadata": {},
   "outputs": [
    {
     "data": {
      "text/plain": [
       "<KerasTensor: shape=(None, 4) dtype=float32 (created by layer 'dense_3')>"
      ]
     },
     "execution_count": 7,
     "metadata": {},
     "output_type": "execute_result"
    }
   ],
   "source": [
    "last_layer_class"
   ]
  },
  {
   "cell_type": "code",
   "execution_count": 8,
   "metadata": {},
   "outputs": [
    {
     "data": {
      "text/plain": [
       "<KerasTensor: shape=(None, 1) dtype=float32 (created by layer 'dense_4')>"
      ]
     },
     "execution_count": 8,
     "metadata": {},
     "output_type": "execute_result"
    }
   ],
   "source": [
    "last_layer_regr"
   ]
  },
  {
   "cell_type": "code",
   "execution_count": 9,
   "metadata": {},
   "outputs": [],
   "source": [
    "model = Model(inputs = input_layer, outputs = [last_layer_class, last_layer_regr])"
   ]
  },
  {
   "cell_type": "code",
   "execution_count": 10,
   "metadata": {},
   "outputs": [
    {
     "name": "stdout",
     "output_type": "stream",
     "text": [
      "Model: \"model\"\n",
      "__________________________________________________________________________________________________\n",
      "Layer (type)                    Output Shape         Param #     Connected to                     \n",
      "==================================================================================================\n",
      "input_1 (InputLayer)            [(None, 40)]         0                                            \n",
      "__________________________________________________________________________________________________\n",
      "dense (Dense)                   (None, 10)           410         input_1[0][0]                    \n",
      "__________________________________________________________________________________________________\n",
      "dense_1 (Dense)                 (None, 10)           110         dense[0][0]                      \n",
      "__________________________________________________________________________________________________\n",
      "dense_2 (Dense)                 (None, 10)           110         dense_1[0][0]                    \n",
      "__________________________________________________________________________________________________\n",
      "dense_3 (Dense)                 (None, 4)            44          dense_2[0][0]                    \n",
      "__________________________________________________________________________________________________\n",
      "dense_4 (Dense)                 (None, 1)            11          dense_2[0][0]                    \n",
      "==================================================================================================\n",
      "Total params: 685\n",
      "Trainable params: 685\n",
      "Non-trainable params: 0\n",
      "__________________________________________________________________________________________________\n"
     ]
    }
   ],
   "source": [
    "model.summary()"
   ]
  },
  {
   "cell_type": "code",
   "execution_count": 11,
   "metadata": {},
   "outputs": [
    {
     "name": "stdout",
     "output_type": "stream",
     "text": [
      "WARNING:tensorflow:Please add `keras.layers.InputLayer` instead of `keras.Input` to Sequential model. `keras.Input` is intended to be used by Functional model.\n"
     ]
    }
   ],
   "source": [
    "cnn_model = Sequential([\n",
    "    Input(shape = (224, 224, 3)),\n",
    "    Conv2D(64, kernel_size = (3, 3), activation = \"relu\"),\n",
    "    Conv2D(64, kernel_size = (3, 3), activation = \"relu\"),\n",
    "    Conv2D(32, kernel_size = (3, 3), activation = \"relu\"),\n",
    "    Conv2D(32, kernel_size = (3, 3), activation = \"relu\"),\n",
    "    Conv2D(16, kernel_size = (3, 3), activation = \"relu\"),\n",
    "    Conv2D(16, kernel_size = (3, 3), activation = \"relu\")\n",
    "])"
   ]
  },
  {
   "cell_type": "code",
   "execution_count": 12,
   "metadata": {},
   "outputs": [
    {
     "name": "stdout",
     "output_type": "stream",
     "text": [
      "Model: \"sequential\"\n",
      "_________________________________________________________________\n",
      "Layer (type)                 Output Shape              Param #   \n",
      "=================================================================\n",
      "conv2d (Conv2D)              (None, 222, 222, 64)      1792      \n",
      "_________________________________________________________________\n",
      "conv2d_1 (Conv2D)            (None, 220, 220, 64)      36928     \n",
      "_________________________________________________________________\n",
      "conv2d_2 (Conv2D)            (None, 218, 218, 32)      18464     \n",
      "_________________________________________________________________\n",
      "conv2d_3 (Conv2D)            (None, 216, 216, 32)      9248      \n",
      "_________________________________________________________________\n",
      "conv2d_4 (Conv2D)            (None, 214, 214, 16)      4624      \n",
      "_________________________________________________________________\n",
      "conv2d_5 (Conv2D)            (None, 212, 212, 16)      2320      \n",
      "=================================================================\n",
      "Total params: 73,376\n",
      "Trainable params: 73,376\n",
      "Non-trainable params: 0\n",
      "_________________________________________________________________\n"
     ]
    }
   ],
   "source": [
    "cnn_model.summary()"
   ]
  },
  {
   "cell_type": "code",
   "execution_count": 13,
   "metadata": {},
   "outputs": [
    {
     "name": "stdout",
     "output_type": "stream",
     "text": [
      "WARNING:tensorflow:Please add `keras.layers.InputLayer` instead of `keras.Input` to Sequential model. `keras.Input` is intended to be used by Functional model.\n"
     ]
    }
   ],
   "source": [
    "model = Sequential([\n",
    "    Input(shape = (224, 224, 3)),\n",
    "    Flatten(),\n",
    "    Dense(64, activation = \"relu\"),\n",
    "    Dense(64, activation = \"relu\"),\n",
    "    Dense(32, activation = \"relu\"),\n",
    "    Dense(32, activation = \"relu\"),\n",
    "    Dense(16, activation = \"relu\"),\n",
    "    Dense(16, activation = \"relu\"),\n",
    "    \n",
    "    Flatten(),\n",
    "    \n",
    "    Dense(30, activation = \"relu\"),\n",
    "    Dense(10, activation = \"relu\"),\n",
    "    Dense(5, activation = \"softmax\")\n",
    "])"
   ]
  },
  {
   "cell_type": "code",
   "execution_count": 14,
   "metadata": {},
   "outputs": [
    {
     "name": "stdout",
     "output_type": "stream",
     "text": [
      "Model: \"sequential_1\"\n",
      "_________________________________________________________________\n",
      "Layer (type)                 Output Shape              Param #   \n",
      "=================================================================\n",
      "flatten (Flatten)            (None, 150528)            0         \n",
      "_________________________________________________________________\n",
      "dense_5 (Dense)              (None, 64)                9633856   \n",
      "_________________________________________________________________\n",
      "dense_6 (Dense)              (None, 64)                4160      \n",
      "_________________________________________________________________\n",
      "dense_7 (Dense)              (None, 32)                2080      \n",
      "_________________________________________________________________\n",
      "dense_8 (Dense)              (None, 32)                1056      \n",
      "_________________________________________________________________\n",
      "dense_9 (Dense)              (None, 16)                528       \n",
      "_________________________________________________________________\n",
      "dense_10 (Dense)             (None, 16)                272       \n",
      "_________________________________________________________________\n",
      "flatten_1 (Flatten)          (None, 16)                0         \n",
      "_________________________________________________________________\n",
      "dense_11 (Dense)             (None, 30)                510       \n",
      "_________________________________________________________________\n",
      "dense_12 (Dense)             (None, 10)                310       \n",
      "_________________________________________________________________\n",
      "dense_13 (Dense)             (None, 5)                 55        \n",
      "=================================================================\n",
      "Total params: 9,642,827\n",
      "Trainable params: 9,642,827\n",
      "Non-trainable params: 0\n",
      "_________________________________________________________________\n"
     ]
    }
   ],
   "source": [
    "model.summary()"
   ]
  },
  {
   "cell_type": "code",
   "execution_count": 15,
   "metadata": {},
   "outputs": [
    {
     "name": "stdout",
     "output_type": "stream",
     "text": [
      "WARNING:tensorflow:Please add `keras.layers.InputLayer` instead of `keras.Input` to Sequential model. `keras.Input` is intended to be used by Functional model.\n"
     ]
    }
   ],
   "source": [
    "cnn_model = Sequential([\n",
    "    Input(shape = (224, 224, 3)),\n",
    "    Conv2D(64, kernel_size = (11, 11), padding = \"same\", activation = \"relu\"),\n",
    "    Conv2D(64, kernel_size = (9, 9), padding = \"same\", activation = \"relu\"),\n",
    "    MaxPool2D(),\n",
    "    BatchNormalization(),\n",
    "    Conv2D(32, kernel_size = (7, 7), padding = \"same\", activation = \"relu\"),\n",
    "    Conv2D(32, kernel_size = (7, 7), padding = \"same\", activation = \"relu\"),\n",
    "    MaxPool2D(),\n",
    "    BatchNormalization(),\n",
    "    Conv2D(16, kernel_size = (5, 5), padding = \"same\", activation = \"relu\"),\n",
    "    Conv2D(16, kernel_size = (3, 3), padding = \"same\", activation = \"relu\"),\n",
    "    MaxPool2D(),\n",
    "    \n",
    "    Flatten(),\n",
    "    BatchNormalization(),\n",
    "    \n",
    "    Dense(30, activation = \"relu\"),\n",
    "    Dropout(0.1),\n",
    "    Dense(10, activation = \"relu\"),\n",
    "    Dropout(0.05),\n",
    "    Dense(5, activation = \"softmax\")\n",
    "])"
   ]
  },
  {
   "cell_type": "code",
   "execution_count": 16,
   "metadata": {},
   "outputs": [
    {
     "name": "stdout",
     "output_type": "stream",
     "text": [
      "Model: \"sequential_2\"\n",
      "_________________________________________________________________\n",
      "Layer (type)                 Output Shape              Param #   \n",
      "=================================================================\n",
      "conv2d_6 (Conv2D)            (None, 224, 224, 64)      23296     \n",
      "_________________________________________________________________\n",
      "conv2d_7 (Conv2D)            (None, 224, 224, 64)      331840    \n",
      "_________________________________________________________________\n",
      "max_pooling2d (MaxPooling2D) (None, 112, 112, 64)      0         \n",
      "_________________________________________________________________\n",
      "batch_normalization (BatchNo (None, 112, 112, 64)      256       \n",
      "_________________________________________________________________\n",
      "conv2d_8 (Conv2D)            (None, 112, 112, 32)      100384    \n",
      "_________________________________________________________________\n",
      "conv2d_9 (Conv2D)            (None, 112, 112, 32)      50208     \n",
      "_________________________________________________________________\n",
      "max_pooling2d_1 (MaxPooling2 (None, 56, 56, 32)        0         \n",
      "_________________________________________________________________\n",
      "batch_normalization_1 (Batch (None, 56, 56, 32)        128       \n",
      "_________________________________________________________________\n",
      "conv2d_10 (Conv2D)           (None, 56, 56, 16)        12816     \n",
      "_________________________________________________________________\n",
      "conv2d_11 (Conv2D)           (None, 56, 56, 16)        2320      \n",
      "_________________________________________________________________\n",
      "max_pooling2d_2 (MaxPooling2 (None, 28, 28, 16)        0         \n",
      "_________________________________________________________________\n",
      "flatten_2 (Flatten)          (None, 12544)             0         \n",
      "_________________________________________________________________\n",
      "batch_normalization_2 (Batch (None, 12544)             50176     \n",
      "_________________________________________________________________\n",
      "dense_14 (Dense)             (None, 30)                376350    \n",
      "_________________________________________________________________\n",
      "dropout (Dropout)            (None, 30)                0         \n",
      "_________________________________________________________________\n",
      "dense_15 (Dense)             (None, 10)                310       \n",
      "_________________________________________________________________\n",
      "dropout_1 (Dropout)          (None, 10)                0         \n",
      "_________________________________________________________________\n",
      "dense_16 (Dense)             (None, 5)                 55        \n",
      "=================================================================\n",
      "Total params: 948,139\n",
      "Trainable params: 922,859\n",
      "Non-trainable params: 25,280\n",
      "_________________________________________________________________\n"
     ]
    }
   ],
   "source": [
    "cnn_model.summary()"
   ]
  },
  {
   "cell_type": "code",
   "execution_count": 17,
   "metadata": {},
   "outputs": [],
   "source": [
    "(attributes_train, labels_train), (attributes_test, labels_test) = mnist.load_data()"
   ]
  },
  {
   "cell_type": "code",
   "execution_count": 18,
   "metadata": {},
   "outputs": [
    {
     "data": {
      "text/plain": [
       "(10000, 28, 28)"
      ]
     },
     "execution_count": 18,
     "metadata": {},
     "output_type": "execute_result"
    }
   ],
   "source": [
    "attributes_test.shape"
   ]
  },
  {
   "cell_type": "code",
   "execution_count": 19,
   "metadata": {},
   "outputs": [],
   "source": [
    "attributes_train_expanded = np.expand_dims(attributes_train, 3)"
   ]
  },
  {
   "cell_type": "code",
   "execution_count": 20,
   "metadata": {},
   "outputs": [],
   "source": [
    "attributes_train_expanded = attributes_train_expanded / 255.0"
   ]
  },
  {
   "cell_type": "code",
   "execution_count": 21,
   "metadata": {},
   "outputs": [
    {
     "name": "stdout",
     "output_type": "stream",
     "text": [
      "WARNING:tensorflow:Please add `keras.layers.InputLayer` instead of `keras.Input` to Sequential model. `keras.Input` is intended to be used by Functional model.\n"
     ]
    }
   ],
   "source": [
    "cnn = Sequential([\n",
    "    Input(shape = (28, 28, 1)),\n",
    "    Conv2D(64, (3, 3), padding = \"same\", activation = \"relu\"),\n",
    "    Conv2D(32, (3, 3), padding = \"same\", activation = \"relu\"),\n",
    "    MaxPool2D(),\n",
    "    Conv2D(32, (3, 3), padding = \"same\", activation = \"relu\"),\n",
    "    Conv2D(16, (3, 3), padding = \"same\", activation = \"relu\"),\n",
    "    MaxPool2D(),\n",
    "    Flatten(),\n",
    "    \n",
    "    Dense(64, activation = \"relu\"),\n",
    "    Dropout(0.05),\n",
    "    Dense(10, activation = \"softmax\")    \n",
    "])"
   ]
  },
  {
   "cell_type": "code",
   "execution_count": 22,
   "metadata": {},
   "outputs": [
    {
     "name": "stdout",
     "output_type": "stream",
     "text": [
      "Model: \"sequential_3\"\n",
      "_________________________________________________________________\n",
      "Layer (type)                 Output Shape              Param #   \n",
      "=================================================================\n",
      "conv2d_12 (Conv2D)           (None, 28, 28, 64)        640       \n",
      "_________________________________________________________________\n",
      "conv2d_13 (Conv2D)           (None, 28, 28, 32)        18464     \n",
      "_________________________________________________________________\n",
      "max_pooling2d_3 (MaxPooling2 (None, 14, 14, 32)        0         \n",
      "_________________________________________________________________\n",
      "conv2d_14 (Conv2D)           (None, 14, 14, 32)        9248      \n",
      "_________________________________________________________________\n",
      "conv2d_15 (Conv2D)           (None, 14, 14, 16)        4624      \n",
      "_________________________________________________________________\n",
      "max_pooling2d_4 (MaxPooling2 (None, 7, 7, 16)          0         \n",
      "_________________________________________________________________\n",
      "flatten_3 (Flatten)          (None, 784)               0         \n",
      "_________________________________________________________________\n",
      "dense_17 (Dense)             (None, 64)                50240     \n",
      "_________________________________________________________________\n",
      "dropout_2 (Dropout)          (None, 64)                0         \n",
      "_________________________________________________________________\n",
      "dense_18 (Dense)             (None, 10)                650       \n",
      "=================================================================\n",
      "Total params: 83,866\n",
      "Trainable params: 83,866\n",
      "Non-trainable params: 0\n",
      "_________________________________________________________________\n"
     ]
    }
   ],
   "source": [
    "cnn.summary()"
   ]
  },
  {
   "cell_type": "code",
   "execution_count": 23,
   "metadata": {},
   "outputs": [
    {
     "data": {
      "text/plain": [
       "(28, 28, 1)"
      ]
     },
     "execution_count": 23,
     "metadata": {},
     "output_type": "execute_result"
    }
   ],
   "source": [
    "np.expand_dims(attributes_train[0], 2).shape"
   ]
  },
  {
   "cell_type": "code",
   "execution_count": 24,
   "metadata": {},
   "outputs": [],
   "source": [
    "cnn.compile(loss = \"sparse_categorical_crossentropy\", optimizer = \"adam\", metrics = [\"accuracy\"])"
   ]
  },
  {
   "cell_type": "code",
   "execution_count": 25,
   "metadata": {},
   "outputs": [
    {
     "name": "stdout",
     "output_type": "stream",
     "text": [
      "1875/1875 [==============================] - 27s 12ms/step - loss: 0.1385 - accuracy: 0.9561\n"
     ]
    },
    {
     "data": {
      "text/plain": [
       "<tensorflow.python.keras.callbacks.History at 0x2528bfc0280>"
      ]
     },
     "execution_count": 25,
     "metadata": {},
     "output_type": "execute_result"
    }
   ],
   "source": [
    "cnn.fit(attributes_train_expanded, labels_train)"
   ]
  },
  {
   "cell_type": "code",
   "execution_count": 26,
   "metadata": {},
   "outputs": [
    {
     "data": {
      "text/plain": [
       "(TensorShape([None, 28, 28, 1]), TensorShape([None, 28, 28, 64]))"
      ]
     },
     "execution_count": 26,
     "metadata": {},
     "output_type": "execute_result"
    }
   ],
   "source": [
    "cnn.layers[0].input.shape, cnn.layers[0].output.shape"
   ]
  },
  {
   "cell_type": "code",
   "execution_count": 27,
   "metadata": {},
   "outputs": [
    {
     "data": {
      "text/plain": [
       "<tf.Variable 'conv2d_12/kernel:0' shape=(3, 3, 1, 64) dtype=float32, numpy=\n",
       "array([[[[ 0.07245106,  0.13091582, -0.01082313, -0.05640807,\n",
       "           0.09191819, -0.04280686, -0.04804662, -0.03300495,\n",
       "          -0.10432505, -0.0862931 , -0.06775445,  0.03489875,\n",
       "           0.03415587, -0.03328973, -0.05268866,  0.12177181,\n",
       "          -0.12560262,  0.08202773, -0.19225945,  0.07510281,\n",
       "          -0.08348898,  0.02455931,  0.02075771, -0.10121791,\n",
       "           0.03282377,  0.05150168,  0.02057743,  0.01798459,\n",
       "          -0.00708495, -0.08347924, -0.00488091, -0.0437349 ,\n",
       "          -0.0708254 , -0.01205081, -0.00267882,  0.08096414,\n",
       "          -0.11283455,  0.00086853,  0.07690997,  0.15160662,\n",
       "          -0.02565726,  0.13722678,  0.13027759,  0.08885022,\n",
       "          -0.0249636 , -0.07570177,  0.05171422,  0.00265811,\n",
       "          -0.04124694,  0.11155935,  0.09684388, -0.0472144 ,\n",
       "           0.16336142,  0.04718442,  0.08809149,  0.03543977,\n",
       "           0.06140514,  0.13595401,  0.15332909,  0.1254032 ,\n",
       "           0.09490976, -0.05555305,  0.15175885,  0.06791878]],\n",
       "\n",
       "        [[ 0.19576791, -0.02835219,  0.05511909,  0.0576421 ,\n",
       "           0.03351903,  0.0110398 ,  0.0837907 ,  0.03828867,\n",
       "          -0.01683819,  0.00330087, -0.03029922, -0.04584374,\n",
       "          -0.01009404,  0.08165678, -0.00863224,  0.08850015,\n",
       "           0.092513  ,  0.12208778,  0.09150641,  0.18580331,\n",
       "          -0.14638792, -0.02340764,  0.01712259,  0.10124019,\n",
       "           0.10224023,  0.14453876, -0.05599688,  0.11413981,\n",
       "           0.10753585,  0.05651199, -0.04190355,  0.0968151 ,\n",
       "          -0.12892507, -0.1341728 , -0.11177166,  0.0729256 ,\n",
       "           0.14091352, -0.01909162,  0.15251553,  0.0572829 ,\n",
       "          -0.01363792,  0.01941172, -0.02993948, -0.08460651,\n",
       "           0.01662852, -0.07744636,  0.11785048,  0.07036744,\n",
       "          -0.04162598, -0.08840794, -0.06331939,  0.08043461,\n",
       "           0.02094735,  0.01130986,  0.12981966,  0.15395595,\n",
       "           0.17206757,  0.05198736,  0.10277496,  0.00351274,\n",
       "           0.09287495, -0.08386171,  0.14776963,  0.14041679]],\n",
       "\n",
       "        [[ 0.04495276, -0.1626113 ,  0.09080093,  0.19590512,\n",
       "          -0.08363346, -0.06597584,  0.14118285,  0.1046121 ,\n",
       "           0.13928826, -0.03742513,  0.04831108,  0.10463988,\n",
       "           0.09379631,  0.0761096 , -0.14499575,  0.1277523 ,\n",
       "          -0.02647859,  0.1708988 , -0.07339478,  0.08054654,\n",
       "          -0.08332095,  0.10924699,  0.05473476,  0.11651126,\n",
       "          -0.16799325,  0.16200624, -0.04816623,  0.14879985,\n",
       "           0.0911909 , -0.0718293 , -0.01099693,  0.04974974,\n",
       "          -0.06484991, -0.03017292, -0.08544005,  0.06507091,\n",
       "           0.09351648,  0.16012801,  0.10099479,  0.0138957 ,\n",
       "          -0.05594588, -0.10466363,  0.152256  ,  0.03140431,\n",
       "           0.17396246,  0.06408434,  0.05575564, -0.20523861,\n",
       "          -0.1783412 , -0.1908982 ,  0.03116523,  0.04365585,\n",
       "           0.10831208, -0.00955974,  0.1276286 , -0.0323419 ,\n",
       "           0.14822766, -0.03629564, -0.04908887, -0.01347407,\n",
       "           0.08124043,  0.14189571, -0.04774028,  0.02005633]]],\n",
       "\n",
       "\n",
       "       [[[ 0.01224444,  0.11178624,  0.07076121, -0.09508851,\n",
       "          -0.05107511,  0.01128637,  0.01578674,  0.08653308,\n",
       "          -0.01419281, -0.02790398,  0.03471453, -0.04137977,\n",
       "           0.08052147, -0.00098849,  0.10544617,  0.0380896 ,\n",
       "          -0.03152236, -0.11527073,  0.12331606, -0.03772983,\n",
       "          -0.06961717, -0.02355119,  0.06111076, -0.03365263,\n",
       "           0.00072859, -0.02302575,  0.08969467,  0.04509739,\n",
       "           0.08930933, -0.07124398, -0.08770698,  0.09548169,\n",
       "          -0.09296066, -0.05675416, -0.16736019,  0.00630677,\n",
       "          -0.18554701, -0.06847729,  0.0455957 ,  0.07606725,\n",
       "           0.09320691,  0.08972033,  0.03244436,  0.05764652,\n",
       "          -0.08767625,  0.07088529, -0.04906109,  0.1300573 ,\n",
       "           0.11995694,  0.07599419,  0.13447542,  0.06755078,\n",
       "           0.10300777,  0.06177521, -0.03015154,  0.08697488,\n",
       "           0.02276229,  0.0669171 ,  0.03514281, -0.10588388,\n",
       "          -0.03709925,  0.08956562, -0.06355974,  0.1444439 ]],\n",
       "\n",
       "        [[-0.00646374, -0.01028861,  0.08249561,  0.0647152 ,\n",
       "           0.02644768,  0.11444619,  0.15219253,  0.13743332,\n",
       "           0.08211892, -0.08319379,  0.06181438,  0.11715726,\n",
       "           0.05446548,  0.11301403,  0.09758295,  0.04234987,\n",
       "           0.00630988, -0.08345832,  0.06185017, -0.02638198,\n",
       "           0.04549462,  0.01032351,  0.11743337,  0.10953952,\n",
       "          -0.0657451 , -0.0725738 ,  0.06651665,  0.03644672,\n",
       "           0.13012514, -0.02465522, -0.05188467,  0.15311722,\n",
       "           0.0053529 , -0.08353193, -0.01945906,  0.11204818,\n",
       "           0.01386815,  0.00629477, -0.06026865,  0.0541355 ,\n",
       "           0.09938331,  0.02654292,  0.06019077,  0.07438295,\n",
       "           0.03903853,  0.13271104,  0.09768753,  0.09236331,\n",
       "          -0.05025338, -0.09564015,  0.00118331,  0.14424902,\n",
       "          -0.05150563,  0.03028147, -0.04706241,  0.07317144,\n",
       "          -0.03340833, -0.01040223, -0.05911877, -0.0666182 ,\n",
       "           0.04049687,  0.04652446,  0.01966024,  0.00902123]],\n",
       "\n",
       "        [[ 0.05669553, -0.15785033,  0.12407863,  0.09239098,\n",
       "           0.09817638,  0.00776528, -0.01356793, -0.02131594,\n",
       "           0.13888909,  0.13666075,  0.0376381 ,  0.13463597,\n",
       "           0.1266485 ,  0.15022868, -0.07210711, -0.03941165,\n",
       "           0.06505792,  0.13610956,  0.05223979,  0.08992705,\n",
       "          -0.05887938,  0.13320723,  0.07939197,  0.04535317,\n",
       "           0.00403962,  0.02856127, -0.08703662, -0.05890073,\n",
       "           0.04294459, -0.00242618, -0.09849002,  0.069745  ,\n",
       "          -0.0322388 ,  0.05423538,  0.09561898,  0.09436717,\n",
       "           0.12434543, -0.12018584,  0.03025992,  0.02571335,\n",
       "           0.07374348, -0.14187637, -0.01082117,  0.01129808,\n",
       "           0.17834918, -0.01988689,  0.11442602,  0.04940909,\n",
       "          -0.07957858, -0.08253688,  0.00819968, -0.09927016,\n",
       "           0.08221972, -0.083748  , -0.08025482,  0.02740193,\n",
       "          -0.05030859, -0.06783296, -0.02584129,  0.02486199,\n",
       "          -0.03765226,  0.04856865,  0.01198219, -0.05485401]]],\n",
       "\n",
       "\n",
       "       [[[-0.01410278,  0.10781062, -0.04800451, -0.11084535,\n",
       "          -0.02927889,  0.04344598, -0.17143375, -0.05453767,\n",
       "          -0.01469783, -0.00520289, -0.09878767, -0.04191599,\n",
       "           0.00955793,  0.00920935, -0.09883925,  0.00809466,\n",
       "           0.11379451, -0.15005651,  0.00350331, -0.11191233,\n",
       "           0.11668578, -0.001067  ,  0.01393671,  0.03613582,\n",
       "           0.12555225, -0.1547335 ,  0.12744449, -0.01429978,\n",
       "          -0.02916652, -0.03003508,  0.13150498,  0.09404977,\n",
       "           0.10696948, -0.14011568, -0.07349635,  0.04849226,\n",
       "          -0.09187876,  0.04708982, -0.13275489, -0.03494373,\n",
       "           0.08831099,  0.04469637, -0.07863513,  0.00643898,\n",
       "          -0.06765323,  0.11638033, -0.06399268,  0.085335  ,\n",
       "           0.12854503,  0.12214667, -0.12471823,  0.07819444,\n",
       "          -0.13388523,  0.08810928,  0.03501614,  0.05481849,\n",
       "          -0.0308649 ,  0.02409775,  0.04086218, -0.04375812,\n",
       "          -0.01333417, -0.0408588 ,  0.05305304,  0.00454929]],\n",
       "\n",
       "        [[-0.15113622, -0.01328776, -0.06791174,  0.06491566,\n",
       "           0.12116309,  0.12092739, -0.06948364,  0.0060024 ,\n",
       "          -0.05212312,  0.1095994 ,  0.01863144,  0.10590342,\n",
       "          -0.0599294 ,  0.10962435,  0.07602504, -0.08513185,\n",
       "          -0.02457904, -0.09407908, -0.1195023 , -0.18874553,\n",
       "          -0.01966616,  0.02333499,  0.04407775, -0.12034232,\n",
       "           0.03885932,  0.02250518, -0.00259198, -0.08263477,\n",
       "           0.05319899,  0.1491493 , -0.00342922,  0.09587503,\n",
       "           0.04112801,  0.00563539,  0.01059578, -0.01062711,\n",
       "           0.07326317, -0.11848964, -0.10484734, -0.02556101,\n",
       "           0.01689724,  0.132378  , -0.185224  ,  0.05522342,\n",
       "          -0.00775703,  0.05735395, -0.15503044, -0.00731074,\n",
       "           0.14701633,  0.12333095,  0.0476162 , -0.04295624,\n",
       "          -0.15999621,  0.11201378, -0.17040084, -0.0832805 ,\n",
       "          -0.18921757, -0.0846621 , -0.09597462,  0.02197655,\n",
       "          -0.0026452 , -0.09333292,  0.04538285, -0.14694808]],\n",
       "\n",
       "        [[-0.08489927,  0.08505073, -0.0603729 , -0.07282149,\n",
       "           0.11151865, -0.04773254,  0.08390234, -0.09133469,\n",
       "          -0.04509626, -0.12795684,  0.13777839,  0.0426398 ,\n",
       "          -0.0080695 ,  0.03757761,  0.00117131, -0.06284579,\n",
       "          -0.08183222,  0.12086526, -0.12033357, -0.05977901,\n",
       "           0.17005222, -0.09739466, -0.02500071, -0.04297469,\n",
       "          -0.07283781,  0.0751285 , -0.01987502, -0.20769618,\n",
       "           0.05141765,  0.15407585,  0.14059424,  0.064353  ,\n",
       "           0.01162787,  0.16039343, -0.0351172 , -0.05242022,\n",
       "           0.12215962, -0.02177129, -0.11141802, -0.10805648,\n",
       "           0.08321883, -0.07088374, -0.12506945, -0.01600219,\n",
       "          -0.03620339,  0.10945985, -0.06984428, -0.06862915,\n",
       "          -0.00736469,  0.12839644, -0.02745239, -0.18443589,\n",
       "          -0.21072489,  0.00123387, -0.07654019, -0.15571767,\n",
       "          -0.15221465, -0.03694047, -0.13012084, -0.10075693,\n",
       "          -0.00351283,  0.02613633, -0.06850278, -0.16711701]]]],\n",
       "      dtype=float32)>"
      ]
     },
     "execution_count": 27,
     "metadata": {},
     "output_type": "execute_result"
    }
   ],
   "source": [
    "cnn.layers[0].weights[0]"
   ]
  },
  {
   "cell_type": "code",
   "execution_count": 28,
   "metadata": {},
   "outputs": [
    {
     "data": {
      "text/plain": [
       "TensorShape([3, 3, 1, 64])"
      ]
     },
     "execution_count": 28,
     "metadata": {},
     "output_type": "execute_result"
    }
   ],
   "source": [
    "cnn.layers[0].kernel.shape"
   ]
  },
  {
   "cell_type": "code",
   "execution_count": 29,
   "metadata": {},
   "outputs": [],
   "source": [
    "# 3, 3, 1, 64: filter 3, 3 chanel 1, filters 64"
   ]
  },
  {
   "cell_type": "code",
   "execution_count": 30,
   "metadata": {},
   "outputs": [
    {
     "data": {
      "text/plain": [
       "<tf.Tensor: shape=(3, 3, 1), dtype=float32, numpy=\n",
       "array([[[ 0.07245106],\n",
       "        [ 0.19576791],\n",
       "        [ 0.04495276]],\n",
       "\n",
       "       [[ 0.01224444],\n",
       "        [-0.00646374],\n",
       "        [ 0.05669553]],\n",
       "\n",
       "       [[-0.01410278],\n",
       "        [-0.15113622],\n",
       "        [-0.08489927]]], dtype=float32)>"
      ]
     },
     "execution_count": 30,
     "metadata": {},
     "output_type": "execute_result"
    }
   ],
   "source": [
    "# all values of filter 1\n",
    "cnn.layers[0].kernel[:, :, :, 0]"
   ]
  },
  {
   "cell_type": "code",
   "execution_count": 31,
   "metadata": {},
   "outputs": [
    {
     "data": {
      "text/plain": [
       "array([[ 0.07245106,  0.19576791,  0.04495276],\n",
       "       [ 0.01224444, -0.00646374,  0.05669553],\n",
       "       [-0.01410278, -0.15113622, -0.08489927]], dtype=float32)"
      ]
     },
     "execution_count": 31,
     "metadata": {},
     "output_type": "execute_result"
    }
   ],
   "source": [
    "tf.squeeze(cnn.layers[0].kernel[:, :, :, 0]).numpy()"
   ]
  },
  {
   "cell_type": "code",
   "execution_count": 32,
   "metadata": {},
   "outputs": [
    {
     "data": {
      "image/png": "[encoded data removed]",
      "text/plain": [
       "<Figure size 432x288 with 1 Axes>"
      ]
     },
     "metadata": {
      "needs_background": "light"
     },
     "output_type": "display_data"
    },
    {
     "data": {
      "image/png": "[encoded data removed]",
      "text/plain": [
       "<Figure size 432x288 with 1 Axes>"
      ]
     },
     "metadata": {
      "needs_background": "light"
     },
     "output_type": "display_data"
    },
    {
     "data": {
      "image/png": "[encoded data removed]",
      "text/plain": [
       "<Figure size 432x288 with 1 Axes>"
      ]
     },
     "metadata": {
      "needs_background": "light"
     },
     "output_type": "display_data"
    },
    {
     "data": {
      "image/png": "[encoded data removed]",
      "text/plain": [
       "<Figure size 432x288 with 1 Axes>"
      ]
     },
     "metadata": {
      "needs_background": "light"
     },
     "output_type": "display_data"
    },
    {
     "data": {
      "image/png": "[encoded data removed]",
      "text/plain": [
       "<Figure size 432x288 with 1 Axes>"
      ]
     },
     "metadata": {
      "needs_background": "light"
     },
     "output_type": "display_data"
    },
    {
     "data": {
      "image/png": "[encoded data removed]",
      "text/plain": [
       "<Figure size 432x288 with 1 Axes>"
      ]
     },
     "metadata": {
      "needs_background": "light"
     },
     "output_type": "display_data"
    },
    {
     "data": {
      "image/png": "[encoded data removed]",
      "text/plain": [
       "<Figure size 432x288 with 1 Axes>"
      ]
     },
     "metadata": {
      "needs_background": "light"
     },
     "output_type": "display_data"
    },
    {
     "data": {
      "image/png": "[encoded data removed]",
      "text/plain": [
       "<Figure size 432x288 with 1 Axes>"
      ]
     },
     "metadata": {
      "needs_background": "light"
     },
     "output_type": "display_data"
    },
    {
     "data": {
      "image/png": "[encoded data removed]",
      "text/plain": [
       "<Figure size 432x288 with 1 Axes>"
      ]
     },
     "metadata": {
      "needs_background": "light"
     },
     "output_type": "display_data"
    },
    {
     "data": {
      "image/png": "[encoded data removed]",
      "text/plain": [
       "<Figure size 432x288 with 1 Axes>"
      ]
     },
     "metadata": {
      "needs_background": "light"
     },
     "output_type": "display_data"
    }
   ],
   "source": [
    "for i in range(10):\n",
    "    filter_contents = tf.squeeze(cnn.layers[0].kernel[:, :, :, 0]).numpy()\n",
    "    plt.imshow(filter_contents, cmap = \"gray\")\n",
    "    plt.show()"
   ]
  },
  {
   "cell_type": "markdown",
   "metadata": {},
   "source": [
    "## Working with Data"
   ]
  },
  {
   "cell_type": "code",
   "execution_count": 33,
   "metadata": {},
   "outputs": [],
   "source": [
    "cats_dir = os.path.abspath(\"./\")\n",
    "dogs_dir = os.path.abspath(\"./\")\n",
    "\n",
    "image_size = (200, 200)"
   ]
  },
  {
   "cell_type": "code",
   "execution_count": 34,
   "metadata": {},
   "outputs": [],
   "source": [
    "cat_filenames = [os.path.join(cats_dir, file) for file in os.listdir(cats_dir)]\n",
    "dog_filenames = [os.path.join(dogs_dir, file) for file in os.listdir(dogs_dir)]"
   ]
  },
  {
   "cell_type": "code",
   "execution_count": 35,
   "metadata": {},
   "outputs": [],
   "source": [
    "all_filenames = np.array(cat_filenames + dog_filenames)"
   ]
  },
  {
   "cell_type": "code",
   "execution_count": 36,
   "metadata": {},
   "outputs": [],
   "source": [
    "np.random.shuffle(all_filenames)"
   ]
  },
  {
   "cell_type": "code",
   "execution_count": 37,
   "metadata": {},
   "outputs": [],
   "source": [
    "def read_image(filename):\n",
    "    print(filename)\n",
    "    file_contents = tf.io.read_file(filename)\n",
    "    image = tf.io.decode_jpeg(file_contents)\n",
    "    label = (\"cat\" in os.path.basename(cat_filenames[0])) + 0\n",
    "    return tf.image.resize(image, image_size)"
   ]
  },
  {
   "cell_type": "code",
   "execution_count": 38,
   "metadata": {},
   "outputs": [],
   "source": [
    "dataset = tf.data.Dataset.from_tensor_slices(all_filenames)"
   ]
  },
  {
   "cell_type": "code",
   "execution_count": 39,
   "metadata": {},
   "outputs": [],
   "source": [
    "dataset = dataset.batch(32).prefetch(buffer_size=32)"
   ]
  }
 ],
 "metadata": {
  "kernelspec": {
   "display_name": "Python 3 (ipykernel)",
   "language": "python",
   "name": "python3"
  },
  "language_info": {
   "codemirror_mode": {
    "name": "ipython",
    "version": 3
   },
   "file_extension": ".py",
   "mimetype": "text/x-python",
   "name": "python",
   "nbconvert_exporter": "python",
   "pygments_lexer": "ipython3",
   "version": "3.9.7"
  }
 },
 "nbformat": 4,
 "nbformat_minor": 4
}
